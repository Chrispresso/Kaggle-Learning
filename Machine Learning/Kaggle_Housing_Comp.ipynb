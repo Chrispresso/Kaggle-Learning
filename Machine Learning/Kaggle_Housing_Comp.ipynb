{
 "cells": [
  {
   "cell_type": "markdown",
   "metadata": {
    "_uuid": "22beda7cf4db7b009a5aee1991b479a8f0ee4354"
   },
   "source": [
    "## Train a Model"
   ]
  },
  {
   "cell_type": "code",
   "execution_count": 1,
   "metadata": {},
   "outputs": [],
   "source": [
    "import xgboost as xgb\n",
    "import pandas as pd\n",
    "import numpy as np\n",
    "from xgboost import XGBRegressor\n",
    "from sklearn.pipeline import Pipeline, make_pipeline\n",
    "from sklearn.model_selection import GridSearchCV\n",
    "from sklearn.ensemble import RandomForestRegressor\n",
    "from sklearn.metrics import mean_absolute_error\n",
    "from sklearn.model_selection import train_test_split\n",
    "from sklearn.impute import SimpleImputer\n",
    "from sklearn.model_selection import cross_val_score\n",
    "from matplotlib import pyplot as plt\n",
    "\n",
    "import warnings\n",
    "def warn(*args, **kwargs):\n",
    "    pass\n",
    "warnings.warn = warn # Nighty night warnings\n",
    "\n",
    "%matplotlib inline\n",
    "\n",
    "\n",
    "### Only needed since I'm running locally ###\n",
    "import os\n",
    "input_dir = os.path.join(os.getcwd(), 'input')\n",
    "train_data = pd.read_csv(input_dir + r'\\\\train.csv')\n",
    "test_data = pd.read_csv(input_dir + r'\\\\test.csv')"
   ]
  },
  {
   "cell_type": "markdown",
   "metadata": {},
   "source": [
    "Next we need to extract the target variable, which in this case is `SalePrice`. "
   ]
  },
  {
   "cell_type": "code",
   "execution_count": 2,
   "metadata": {},
   "outputs": [],
   "source": [
    "target = train_data.SalePrice\n",
    "\n",
    "candidate_train_predictors = train_data.drop(['Id', 'SalePrice'], axis=1)\n",
    "candidate_test_predictors = test_data.drop(['Id'], axis=1)"
   ]
  },
  {
   "cell_type": "markdown",
   "metadata": {},
   "source": [
    "I think one of the harder parts to grasp is one-hot encoding so let's break it down into steps.\n",
    "### 1. Grab columns with low cardinality\n",
    "These are the columns that have unique values and contain only a handful of possible values."
   ]
  },
  {
   "cell_type": "code",
   "execution_count": 3,
   "metadata": {},
   "outputs": [
    {
     "name": "stdout",
     "output_type": "stream",
     "text": [
      "['MSZoning', 'Street', 'Alley', 'LotShape', 'LandContour', 'Utilities', 'LotConfig', 'LandSlope', 'Condition1', 'Condition2', 'BldgType', 'HouseStyle', 'RoofStyle', 'RoofMatl', 'MasVnrType', 'ExterQual', 'ExterCond', 'Foundation', 'BsmtQual', 'BsmtCond', 'BsmtExposure', 'BsmtFinType1', 'BsmtFinType2', 'Heating', 'HeatingQC', 'CentralAir', 'Electrical', 'KitchenQual', 'Functional', 'FireplaceQu', 'GarageType', 'GarageFinish', 'GarageQual', 'GarageCond', 'PavedDrive', 'PoolQC', 'Fence', 'MiscFeature', 'SaleType', 'SaleCondition']\n",
      "Low Cardinality Columns: 40\n"
     ]
    }
   ],
   "source": [
    "low_cardinality_cols = []\n",
    "# Grab all columns that have less than 10 unique values\n",
    "for cname in candidate_train_predictors.columns:\n",
    "    col = candidate_train_predictors[cname]\n",
    "    # If the number of unique values in a column < 10 and column is dtype 'object'\n",
    "    if col.nunique() < 10 and col.dtype == 'object':\n",
    "        low_cardinality_cols.append(cname)\n",
    "print(low_cardinality_cols)\n",
    "print('Low Cardinality Columns:', len(low_cardinality_cols))"
   ]
  },
  {
   "cell_type": "markdown",
   "metadata": {},
   "source": [
    "### 2. Grab columns that represent a number"
   ]
  },
  {
   "cell_type": "code",
   "execution_count": 4,
   "metadata": {},
   "outputs": [
    {
     "name": "stdout",
     "output_type": "stream",
     "text": [
      "['MSSubClass', 'LotFrontage', 'LotArea', 'OverallQual', 'OverallCond', 'YearBuilt', 'YearRemodAdd', 'MasVnrArea', 'BsmtFinSF1', 'BsmtFinSF2', 'BsmtUnfSF', 'TotalBsmtSF', '1stFlrSF', '2ndFlrSF', 'LowQualFinSF', 'GrLivArea', 'BsmtFullBath', 'BsmtHalfBath', 'FullBath', 'HalfBath', 'BedroomAbvGr', 'KitchenAbvGr', 'TotRmsAbvGrd', 'Fireplaces', 'GarageYrBlt', 'GarageCars', 'GarageArea', 'WoodDeckSF', 'OpenPorchSF', 'EnclosedPorch', '3SsnPorch', 'ScreenPorch', 'PoolArea', 'MiscVal', 'MoSold', 'YrSold']\n",
      "Numeric Columns: 36\n"
     ]
    }
   ],
   "source": [
    "# Grab all columns that are numeric \n",
    "numeric_cols = [cname for cname in candidate_train_predictors.columns if\n",
    "                       candidate_train_predictors[cname].dtype in ['int64', 'float64']]\n",
    "print(numeric_cols)\n",
    "print('Numeric Columns:', len(numeric_cols))"
   ]
  },
  {
   "cell_type": "markdown",
   "metadata": {},
   "source": [
    "### 3. Get one-hot encoding"
   ]
  },
  {
   "cell_type": "code",
   "execution_count": 5,
   "metadata": {},
   "outputs": [],
   "source": [
    "# Grab all columns that we care about\n",
    "my_cols = low_cardinality_cols + numeric_cols\n",
    "train_predictors = candidate_train_predictors[my_cols]\n",
    "test_predictors = candidate_test_predictors[my_cols]\n",
    "\n",
    "# Compute one-hot encoding\n",
    "one_hot_encoded_training_predictors = pd.get_dummies(train_predictors)\n",
    "one_hot_encoded_test_predictors = pd.get_dummies(test_predictors)\n",
    "\n",
    "final_train, final_test = one_hot_encoded_training_predictors.align(one_hot_encoded_test_predictors,\n",
    "                                                                    join='left',\n",
    "                                                                    axis=1)"
   ]
  },
  {
   "cell_type": "markdown",
   "metadata": {},
   "source": [
    "Well that was fast. Only 3 steps and we have some one-hot encoded data. But what exactly happened?\n",
    "Let's examine the columns in `train_predictors` or more specifically the values in `my_cols` and compare them to what is in `one_hot_encoded_training_predictors`."
   ]
  },
  {
   "cell_type": "code",
   "execution_count": 6,
   "metadata": {},
   "outputs": [
    {
     "name": "stdout",
     "output_type": "stream",
     "text": [
      "Length my_cols: 76\n",
      "One-Hot encoded training predictors: 232\n"
     ]
    }
   ],
   "source": [
    "print('Length my_cols:', len(my_cols))\n",
    "print('One-Hot encoded training predictors:', len(one_hot_encoded_training_predictors.columns))"
   ]
  },
  {
   "cell_type": "markdown",
   "metadata": {},
   "source": [
    "There are many more columns in `one_hot_encoded_training_predictors` than there are values in `my_cols`. Let's take a look at a single value from `low_cardinality_cols`, `MSZoning`."
   ]
  },
  {
   "cell_type": "code",
   "execution_count": 7,
   "metadata": {},
   "outputs": [
    {
     "name": "stdout",
     "output_type": "stream",
     "text": [
      "RL         1151\n",
      "RM          218\n",
      "FV           65\n",
      "RH           16\n",
      "C (all)      10\n",
      "Name: MSZoning, dtype: int64\n"
     ]
    }
   ],
   "source": [
    "print(train_predictors['MSZoning'].value_counts())"
   ]
  },
  {
   "cell_type": "markdown",
   "metadata": {},
   "source": [
    "With one-hot encoding we end up getting a column for each unique value. In this case we should end up with five different columns, each representing a potential value that `MSZoning` can take on."
   ]
  },
  {
   "cell_type": "code",
   "execution_count": 8,
   "metadata": {},
   "outputs": [
    {
     "name": "stdout",
     "output_type": "stream",
     "text": [
      "['MSZoning_C (all)', 'MSZoning_FV', 'MSZoning_RH', 'MSZoning_RL', 'MSZoning_RM']\n"
     ]
    }
   ],
   "source": [
    "print([col for col in one_hot_encoded_training_predictors.columns if col.find('MSZoning') != -1])"
   ]
  },
  {
   "cell_type": "markdown",
   "metadata": {},
   "source": [
    "Next we create an Imputer to fill in missing data rather than getting rid of it."
   ]
  },
  {
   "cell_type": "code",
   "execution_count": 9,
   "metadata": {},
   "outputs": [],
   "source": [
    "# Create Imputer for Imputing values\n",
    "my_imputer = SimpleImputer()\n",
    "imputed_train = my_imputer.fit_transform(final_train)\n",
    "imputed_test = my_imputer.transform(final_test)\n",
    "\n",
    "# Split into train/test set for training the XGBoost Model\n",
    "train_X, test_X, train_y, test_y = train_test_split(one_hot_encoded_training_predictors, target, random_state=1)"
   ]
  },
  {
   "cell_type": "code",
   "execution_count": 10,
   "metadata": {},
   "outputs": [],
   "source": [
    "def grid_search(param_grid, fit_params):\n",
    "    import datetime\n",
    "    start = datetime.datetime.now()\n",
    "    \n",
    "    my_pipeline = Pipeline([('imputer', SimpleImputer()),\n",
    "                            ('xgbreg', XGBRegressor())])\n",
    "    \n",
    "    search_cv = GridSearchCV(my_pipeline, cv=5, param_grid=param_grid)\n",
    "    search_cv.fit(train_X, train_y, **fit_params)\n",
    "    \n",
    "    end = datetime.datetime.now()\n",
    "    print(search_cv.best_params_)\n",
    "    \n",
    "    diff = end - start\n",
    "    minutes, seconds = divmod(diff.total_seconds(), 60)\n",
    "    print('Time taken: {:.0f} minutes, {:.3f} seconds'.format(minutes, seconds))\n",
    "    "
   ]
  },
  {
   "cell_type": "markdown",
   "metadata": {},
   "source": [
    "Using the function above we can do a cross-validation search of the parameter and fit grids. In order to find the best values we would need to plug in each possible parameter and a range of values that it could take on in order to find the settings that work best when fitting the data. This isn't realistic as running cross-validation on such a large grid would take a very long time to run. An example of this can be seen below."
   ]
  },
  {
   "cell_type": "code",
   "execution_count": 11,
   "metadata": {},
   "outputs": [
    {
     "name": "stdout",
     "output_type": "stream",
     "text": [
      "{'xgbreg__n_estimators': 250, 'xgbreg__random_state': 1}\n",
      "Time taken: 0 minutes, 32.312 seconds\n",
      "\n",
      "{'xgbreg__learning_rate': 0.05, 'xgbreg__n_estimators': 250, 'xgbreg__random_state': 1}\n",
      "Time taken: 1 minutes, 48.208 seconds\n",
      "\n",
      "{'xgbreg__learning_rate': 0.1, 'xgbreg__max_depth': 4, 'xgbreg__n_estimators': 100, 'xgbreg__random_state': 1}\n",
      "Time taken: 6 minutes, 12.432 seconds\n"
     ]
    }
   ],
   "source": [
    "param_grid = {\n",
    "    'xgbreg__random_state': [1],\n",
    "    'xgbreg__n_estimators': [10, 50, 100, 250, 500, 1000],\n",
    "    #'xgbreg__learning_rate': [0.05, .1, .15],\n",
    "    #'xgbreg__max_depth' : [3, 4, 5],\n",
    "}\n",
    "\n",
    "fit_params = {\n",
    "    'xgbreg__early_stopping_rounds': 5,\n",
    "    'xgbreg__eval_set': [(np.array(test_X), test_y)],\n",
    "    'xgbreg__verbose': False\n",
    "}\n",
    "\n",
    "grid_search(param_grid, fit_params)\n",
    "\n",
    "# Add a parameter to maximize\n",
    "param_grid['xgbreg__learning_rate'] = [.05, .1, .15]\n",
    "print()\n",
    "grid_search(param_grid, fit_params)\n",
    "\n",
    "# Add another parameter\n",
    "param_grid['xgbreg__max_depth'] = [3, 4, 5]\n",
    "print()\n",
    "grid_search(param_grid, fit_params)"
   ]
  },
  {
   "cell_type": "markdown",
   "metadata": {},
   "source": [
    "As you can see it takes significantly longer to run each time because it needs to check all possible combinations of values for the given parameters in order to find what works best. Below is what I used for my model."
   ]
  },
  {
   "cell_type": "code",
   "execution_count": 12,
   "metadata": {
    "_uuid": "c08e9358a5f582d46487ffa7cee9b11c3b47718d"
   },
   "outputs": [
    {
     "data": {
      "text/plain": [
       "XGBRegressor(base_score=0.5, booster='gbtree', colsample_bylevel=1,\n",
       "       colsample_bytree=0.5, gamma=0, importance_type='gain',\n",
       "       learning_rate=0.05, max_delta_step=0, max_depth=4,\n",
       "       min_child_weight=1, missing=None, n_estimators=500, n_jobs=1,\n",
       "       nthread=None, objective='reg:linear', random_state=1, reg_alpha=0,\n",
       "       reg_lambda=1.5, scale_pos_weight=1, seed=None, silent=True,\n",
       "       subsample=0.9)"
      ]
     },
     "execution_count": 12,
     "metadata": {},
     "output_type": "execute_result"
    }
   ],
   "source": [
    "xgb_model = XGBRegressor(n_estimators=500, learning_rate=0.05, random_state=1, max_depth=4, reg_lambda=1.5,\n",
    "                         subsample=0.9, colsample_bytree=0.5)\n",
    "xgb_model.fit(imputed_train, target, verbose=False)"
   ]
  },
  {
   "cell_type": "markdown",
   "metadata": {},
   "source": [
    "Now all that is left is to visualize what was learned. We can do this by using partial dependence plots. `XGBoost` has the ability to do this but seems to only give features names such as **f0**, **f1**, **f2**, etc. I wrote some code to extract these names and reference them against the feature at that given index."
   ]
  },
  {
   "cell_type": "code",
   "execution_count": 13,
   "metadata": {},
   "outputs": [
    {
     "data": {
      "image/png": "[encoded data removed]",
      "text/plain": [
       "<Figure size 792x792 with 1 Axes>"
      ]
     },
     "metadata": {
      "needs_background": "light"
     },
     "output_type": "display_data"
    }
   ],
   "source": [
    "##### Partial Dependence Plot\n",
    "vals_to_display = 10\n",
    "feature_names = final_train.columns.values \n",
    "fscores = xgb_model.get_booster().get_fscore()\n",
    "sorted_fscores = sorted(fscores, key=fscores.get, reverse=True)\n",
    "\n",
    "fig, ax = plt.subplots(1, 1, figsize=(11,11))\n",
    "\n",
    "# Reverse so largest values are at the top of bar graph\n",
    "x = (sorted_fscores[:vals_to_display] + sorted_fscores[-3:])[::-1]\n",
    "y = [fscores[val] for val in x]\n",
    "y_pos = np.arange(len(y))\n",
    "\n",
    "width = 0.75\n",
    "ax.barh(y_pos, y, width, align='center')\n",
    "ax.set_yticks(y_pos)\n",
    "\n",
    "# F-scores are 'f10', 'f11', etc. with the same array indices as the column\n",
    "# names. This just removes the 'f' and converts it to an int to do 1:1 indexing\n",
    "# into the feature_names array\n",
    "ax.set_yticklabels([feature_names[int(t[1:])] for t in x], minor=False)\n",
    "\n",
    "# Add text to show number in each bar\n",
    "for i, v in enumerate(y):\n",
    "    ax.text(v + 1.5, i, str(v))\n",
    "plt.ylabel('Feature')\n",
    "plt.xlabel('F-Score')\n",
    "plt.title('F-Score by Feature')\n",
    "plt.show()\n"
   ]
  },
  {
   "cell_type": "markdown",
   "metadata": {
    "_uuid": "ecb6737d728ce82c04fa68ee301b3e0284ac9e3d"
   },
   "source": [
    "## Make Predictions\n",
    "Read the file of \"test\" data. And apply your model to make predictions"
   ]
  },
  {
   "cell_type": "code",
   "execution_count": 14,
   "metadata": {
    "_uuid": "2bbf78a529a900d1333f9e1279eb006a3222c524"
   },
   "outputs": [],
   "source": [
    "from sklearn.metrics import mean_absolute_error\n",
    "\n",
    "# path to file you will use for predictions\n",
    "test_data_path = input_dir + r'\\test.csv'\n",
    "\n",
    "# read test data file using pandas\n",
    "test_data = pd.read_csv(test_data_path)\n",
    "\n",
    "\n",
    "# make predictions which we will submit. \n",
    "test_preds = xgb_model.predict(imputed_test)\n",
    "\n",
    "output = pd.DataFrame({'Id': test_data.Id,\n",
    "                      'SalePrice': test_preds})\n",
    "output.to_csv('submission.csv', index=False)"
   ]
  },
  {
   "cell_type": "markdown",
   "metadata": {},
   "source": [
    "And we now have a trained model that made predictions on the test data! In this case we cannot test the accuracy on the test data here as they did not provide a target column for us but we can be pretty positive that it did well based off the test data from `train_test_split` before when cross-validating. So then did we create the best model? Well let's take a look at the columns we used. Originally in the competition it has you start by using just a few features but now we have put the features we will use in `my_cols`, so let's look there."
   ]
  },
  {
   "cell_type": "code",
   "execution_count": 15,
   "metadata": {},
   "outputs": [
    {
     "name": "stdout",
     "output_type": "stream",
     "text": [
      "Number of possible columns: 79\n",
      "Number of columns used: 76\n",
      "Unussed columns: {'Exterior1st', 'Neighborhood', 'Exterior2nd'}\n",
      "[dtype('O'), dtype('O'), dtype('O')]\n",
      "Exterior1st: 15\n",
      "Neighborhood: 25\n",
      "Exterior2nd: 16\n"
     ]
    }
   ],
   "source": [
    "print('Number of possible columns:', len(candidate_train_predictors.columns))\n",
    "print('Number of columns used:', len(my_cols))\n",
    "\n",
    "possible_cols = set(candidate_train_predictors.columns)\n",
    "used_cols = set(my_cols)\n",
    "unused_cols = possible_cols ^ used_cols\n",
    "print('Unussed columns:', unused_cols)\n",
    "print([candidate_train_predictors[col].dtype for col in unused_cols])\n",
    "print('\\n'.join(['{}: {}'.format(col, candidate_train_predictors[col].nunique())\n",
    "                 for col in unused_cols]))"
   ]
  },
  {
   "cell_type": "markdown",
   "metadata": {},
   "source": [
    "So we aren't actually using all of the columns. Since our columns we considered for low cardinality were ones with less than 10 unique values, we end up leaving this ones out. Their `dtype` is \"O\", or Object, which in this case just assume it means string. This means these columns won't be picked up by our numeric columns either.\n",
    "\n",
    "One of the best ways to gain knowledge is by doing. Try tweaking some of the parameters and seeing how the partial dependence plot changes. Do these changes make sense to you? Sometimes you don't need to look at MAE to determine if your model made the correct prediction. I included the worst three f-score features as well. If you tweak the model in such a way that `RoofStyle_Gambrel` somehow makes it into a top f-score, then there is something most likely wrong with the model. If there is a feature you don't think people would care about in the top 10 f-scores, it might be time to consider tweaking the parameters and retraining your model!"
   ]
  }
 ],
 "metadata": {
  "kernelspec": {
   "display_name": "Python 3",
   "language": "python",
   "name": "python3"
  },
  "language_info": {
   "codemirror_mode": {
    "name": "ipython",
    "version": 3
   },
   "file_extension": ".py",
   "mimetype": "text/x-python",
   "name": "python",
   "nbconvert_exporter": "python",
   "pygments_lexer": "ipython3",
   "version": "3.7.0"
  }
 },
 "nbformat": 4,
 "nbformat_minor": 1
}
